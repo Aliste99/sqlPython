{
 "cells": [
  {
   "cell_type": "code",
   "execution_count": 6,
   "metadata": {},
   "outputs": [
    {
     "ename": "ModuleNotFoundError",
     "evalue": "No module named 'connection'",
     "output_type": "error",
     "traceback": [
      "\u001b[1;31m---------------------------------------------------------------------------\u001b[0m",
      "\u001b[1;31mModuleNotFoundError\u001b[0m                       Traceback (most recent call last)",
      "\u001b[1;32m<ipython-input-6-5fbc5aa34d47>\u001b[0m in \u001b[0;36m<module>\u001b[1;34m()\u001b[0m\n\u001b[0;32m      3\u001b[0m \u001b[1;32mimport\u001b[0m \u001b[0mjson\u001b[0m\u001b[1;33m\u001b[0m\u001b[0m\n\u001b[0;32m      4\u001b[0m \u001b[1;32mfrom\u001b[0m \u001b[0msqlmodule\u001b[0m \u001b[1;32mimport\u001b[0m \u001b[0mCompanysearcher\u001b[0m\u001b[1;33m\u001b[0m\u001b[0m\n\u001b[1;32m----> 5\u001b[1;33m \u001b[1;32mfrom\u001b[0m \u001b[0mconnection\u001b[0m \u001b[1;32mimport\u001b[0m \u001b[0mConn\u001b[0m \u001b[1;32mas\u001b[0m \u001b[0mcn\u001b[0m\u001b[1;33m\u001b[0m\u001b[0m\n\u001b[0m\u001b[0;32m      6\u001b[0m \u001b[1;33m\u001b[0m\u001b[0m\n\u001b[0;32m      7\u001b[0m \u001b[0msm\u001b[0m \u001b[1;33m=\u001b[0m \u001b[0mCompanysearcher\u001b[0m\u001b[1;33m(\u001b[0m\u001b[0mcn\u001b[0m\u001b[1;33m.\u001b[0m\u001b[0mconn\u001b[0m\u001b[1;33m)\u001b[0m\u001b[1;33m\u001b[0m\u001b[0m\n",
      "\u001b[1;31mModuleNotFoundError\u001b[0m: No module named 'connection'"
     ]
    }
   ],
   "source": [
    "import pymysql\n",
    "import pandas as pd\n",
    "import json\n",
    "from sqlmodule import Companysearcher\n",
    "from connection import Conn as cn\n",
    "\n",
    "sm = Companysearcher(cn.conn)"
   ]
  },
  {
   "cell_type": "code",
   "execution_count": 7,
   "metadata": {},
   "outputs": [
    {
     "ename": "NameError",
     "evalue": "name 'cn' is not defined",
     "output_type": "error",
     "traceback": [
      "\u001b[1;31m---------------------------------------------------------------------------\u001b[0m",
      "\u001b[1;31mNameError\u001b[0m                                 Traceback (most recent call last)",
      "\u001b[1;32m<ipython-input-7-ba6c84e87251>\u001b[0m in \u001b[0;36m<module>\u001b[1;34m()\u001b[0m\n\u001b[1;32m----> 1\u001b[1;33m \u001b[1;32mdef\u001b[0m \u001b[0mfind_companies_related_to_companies_via_founders\u001b[0m\u001b[1;33m(\u001b[0m\u001b[0mcompanies\u001b[0m\u001b[1;33m,\u001b[0m \u001b[0mdb_connection\u001b[0m\u001b[1;33m=\u001b[0m\u001b[0mcn\u001b[0m\u001b[1;33m.\u001b[0m\u001b[0mconn\u001b[0m\u001b[1;33m)\u001b[0m\u001b[1;33m:\u001b[0m\u001b[1;33m\u001b[0m\u001b[0m\n\u001b[0m\u001b[0;32m      2\u001b[0m     \u001b[0mframes\u001b[0m \u001b[1;33m=\u001b[0m \u001b[1;33m[\u001b[0m\u001b[1;33m]\u001b[0m\u001b[1;33m\u001b[0m\u001b[0m\n\u001b[0;32m      3\u001b[0m     \u001b[1;32mfor\u001b[0m \u001b[0mcompany\u001b[0m \u001b[1;32min\u001b[0m \u001b[0mcompanies\u001b[0m\u001b[1;33m:\u001b[0m\u001b[1;33m\u001b[0m\u001b[0m\n\u001b[0;32m      4\u001b[0m         \u001b[0mframes\u001b[0m\u001b[1;33m.\u001b[0m\u001b[0mappend\u001b[0m\u001b[1;33m(\u001b[0m\u001b[0mfind_companies_by_name\u001b[0m\u001b[1;33m(\u001b[0m\u001b[0mcompany\u001b[0m\u001b[1;33m,\u001b[0m \u001b[0mdb_connection\u001b[0m\u001b[1;33m)\u001b[0m\u001b[1;33m)\u001b[0m\u001b[1;33m\u001b[0m\u001b[0m\n\u001b[0;32m      5\u001b[0m     \u001b[0mdf\u001b[0m \u001b[1;33m=\u001b[0m \u001b[0mpd\u001b[0m\u001b[1;33m.\u001b[0m\u001b[0mconcat\u001b[0m\u001b[1;33m(\u001b[0m\u001b[0mframes\u001b[0m\u001b[1;33m)\u001b[0m \u001b[1;31m# TODO remove duplicates\u001b[0m\u001b[1;33m\u001b[0m\u001b[0m\n",
      "\u001b[1;31mNameError\u001b[0m: name 'cn' is not defined"
     ]
    }
   ],
   "source": [
    "def find_companies_related_to_companies_via_founders(companies, db_connection=cn.conn):\n",
    "    frames = []\n",
    "    for company in companies:\n",
    "        frames.append(find_companies_by_name(company, db_connection))\n",
    "    df = pd.concat(frames) # TODO remove duplicates\n",
    "    return find_related_companies_by_founders(df, db_connection)\n",
    "    \n",
    "def find_related_companies_by_founders(companies_dataframe, db_connection=cn.conn):\n",
    "    companies_array = companies_dataframe.values\n",
    "    companies_list = list(map(find_companies_by_founders_string, companies_array))\n",
    "    data = {}\n",
    "    for i, company in enumerate(companies_array):\n",
    "        data[company[0]] = companies_list[i]\n",
    "    return data\n",
    "\n",
    "def find_companies_by_founders_string(company_with_founders, db_connection=cn.conn):\n",
    "    founders_list = company_with_founders[1].split(',')\n",
    "    #companies_list = list(map(find_companies_by_founder, founders_list))\n",
    "    data = {}\n",
    "    for i, founder in enumerate(founders_list):\n",
    "        data[founder] = find_companies_by_founder(founder, company_with_founders[0], db_connection)\n",
    "    return data\n",
    "\n",
    "def find_companies_by_founder(founder, nosearch, db_connection=cn.conn):\n",
    "    df = pd.read_sql_query(\n",
    "    \"SELECT FullNameRu FROM Minjust2018 WHERE Founders LIKE '%\"+ founder +\"%' AND FullNameRu <> '\"+nosearch+\"' LIMIT 0, 10\",\n",
    "    db_connection)\n",
    "    return df.values.tolist()\n",
    "\n",
    "def find_companies_by_name(name, db_connection=cn.conn):\n",
    "    df = pd.read_sql_query(\n",
    "    \"SELECT FullNameRu, Founders FROM Minjust2018 WHERE FullNameRu LIKE '%\"+name+\"%' LIMIT 0, 20\",\n",
    "    db_connection)\n",
    "    return df\n"
   ]
  },
  {
   "cell_type": "code",
   "execution_count": null,
   "metadata": {},
   "outputs": [],
   "source": []
  }
 ],
 "metadata": {
  "kernelspec": {
   "display_name": "Python 3",
   "language": "python",
   "name": "python3"
  },
  "language_info": {
   "codemirror_mode": {
    "name": "ipython",
    "version": 3
   },
   "file_extension": ".py",
   "mimetype": "text/x-python",
   "name": "python",
   "nbconvert_exporter": "python",
   "pygments_lexer": "ipython3",
   "version": "3.6.5"
  }
 },
 "nbformat": 4,
 "nbformat_minor": 2
}
