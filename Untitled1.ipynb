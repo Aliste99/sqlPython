{
 "cells": [
  {
   "cell_type": "code",
   "execution_count": 1,
   "metadata": {},
   "outputs": [],
   "source": [
    "from myCat import Cat\n",
    "import module\n",
    "\n",
    "def word_count(text):\n",
    "    wordcount={}\n",
    "    for word in file.read().split():\n",
    "        if word not in wordcount:\n",
    "            wordcount[word] = 1\n",
    "        else:\n",
    "            wordcount[word] += 1   \n",
    "    return wordcount\n",
    "\n",
    "def getMax(wordcount):\n",
    "    print(wordcount['я'])"
   ]
  },
  {
   "cell_type": "code",
   "execution_count": 2,
   "metadata": {
    "scrolled": false
   },
   "outputs": [],
   "source": [
    "#file=open(\"C:\\\\Users\\\\Aliste\\\\projects\\\\pythonSQL\\\\mysqljupyter\\\\war.txt\",\"r+\")\n",
    "#getMax(word_count(file))"
   ]
  },
  {
   "cell_type": "code",
   "execution_count": 3,
   "metadata": {},
   "outputs": [
    {
     "name": "stdout",
     "output_type": "stream",
     "text": [
      "12\n"
     ]
    }
   ],
   "source": [
    "print(module.plus4(8))"
   ]
  },
  {
   "cell_type": "code",
   "execution_count": 5,
   "metadata": {},
   "outputs": [
    {
     "name": "stdout",
     "output_type": "stream",
     "text": [
      "__/----\\__/----\\__\n",
      "P.S. it's a jump :3\n",
      "__/----\\__/----\\__\n",
      "P.S. it's a jump :3\n",
      "__/----\\__/----\\__\n",
      "P.S. it's a jump :3\n",
      "__/----\\__/----\\__\n",
      "P.S. it's a jump :3\n",
      "__/----\\__/----\\__\n",
      "P.S. it's a jump :3\n",
      "__/----\\__/----\\__\n",
      "P.S. it's a jump :3\n",
      "__/----\\__/----\\__\n",
      "P.S. it's a jump :3\n",
      "__/----\\__/----\\__\n",
      "P.S. it's a jump :3\n",
      "I'm sad. I don't want to do this\n",
      "I'm sad. I don't want to do this\n",
      "Your Shurais dead((9(\n",
      "Your Shurais dead((9(\n"
     ]
    }
   ],
   "source": [
    "shura = Cat(\"Shura\", \"Accura\")\n",
    "shura.jump()\n",
    "shura.jump()\n",
    "shura.jump()\n",
    "shura.jump()\n",
    "shura.jump()\n",
    "shura.jump()\n",
    "shura.jump()\n",
    "shura.jump()\n",
    "shura.jump()\n",
    "shura.jump()\n",
    "shura.feed()\n",
    "shura.dead()\n",
    "shura.jump()\n",
    "shura.check()"
   ]
  },
  {
   "cell_type": "code",
   "execution_count": null,
   "metadata": {},
   "outputs": [],
   "source": [
    "    "
   ]
  }
 ],
 "metadata": {
  "kernelspec": {
   "display_name": "Python 3",
   "language": "python",
   "name": "python3"
  },
  "language_info": {
   "codemirror_mode": {
    "name": "ipython",
    "version": 3
   },
   "file_extension": ".py",
   "mimetype": "text/x-python",
   "name": "python",
   "nbconvert_exporter": "python",
   "pygments_lexer": "ipython3",
   "version": "3.6.4"
  }
 },
 "nbformat": 4,
 "nbformat_minor": 2
}
